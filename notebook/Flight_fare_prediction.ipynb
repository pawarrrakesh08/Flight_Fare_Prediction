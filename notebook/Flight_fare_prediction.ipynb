{
 "cells": [
  {
   "cell_type": "markdown",
   "metadata": {},
   "source": [
    "<h1 style=\"font-family: 'poppins'; font-weight: bold; color: aliceblue;\">Flight Fare Prediction</h1>\n",
    "\n",
    "<h3 style=\"font-family: 'poppins'; font-weight: bold; color: aliceblue; text-align: left;\">Author: Rakesh Pawar</h3>\n",
    "\n",
    "[![GitHub](https://img.shields.io/badge/github-grey?style=for-the-badge&logo=github)](https://github.com/pawarrrakesh08) \n",
    "[![Kaggle](https://img.shields.io/badge/Kaggle-white?style=for-the-badge&logo=kaggle)](https://www.kaggle.com/pawarrrakesh) \n",
    "[![LinkedIn](https://img.shields.io/badge/linkedin-blue?style=for-the-badge&logo=linkedin)](https://www.linkedin.com/in/pawarrrakesh/)  \n"
   ]
  },
  {
   "cell_type": "markdown",
   "metadata": {},
   "source": [
    "## Problem Statement\n",
    "Travelling through flights has become an integral part of today’s lifestyle as more and more people are opting for faster travelling options. The flight ticket prices increase or decrease every now and then depending on various factors like timing of the flights, destination, and duration of flights various occasions such as vacations or festive season. Therefore, having some basic idea of the flight fares before planning the trip will surely help many people save money and time.\n",
    "The main goal is to predict the fares of the flights based on different factors available in the provided dataset.\n",
    "\n",
    "### Content\n",
    "#### Column Descriptions:\n",
    "\n",
    "There are 300153 rows and 11 columns in the dataset.\n",
    "* `Airline`: Categorical variable, Contains Airline company name , has 6 unique values.\n",
    "* `Flight`: Categorical variable, Contains flight code prefix by company name abreviation.\n",
    "* `Source City`: Categorical variable, Contains departure city , has 6 unique cities.\n",
    "* `Departure Time`: Categorical variable, Contains departure time of the day like morrning, afternoon ,late night , has 6 unique timevalues.\n",
    "* `Stops`: Categorical variable, Contains info like whether the flight is direct , has any stops , Has 3 Unique values.\n",
    "* `Arrival Time`: Categorical variable, Contains arrival time of the day like morrning, afternoon ,late night , has 6 unique values.\n",
    "* `Destination City`: Categorical variable, Contains landing city , has 6 unique cities.\n",
    "* `Class`: Categorical variable, Contains information about seating class Business or Economy , has 2 unique values.\n",
    "* `Duration`: Numerical variable, Displays the overall amount of time it takes to travel between cities in hours.\n",
    "* `Days Left`: Numerical variable, Contains day's difference between booking date to flight date. \n",
    "* `Price`: Numrical variable, Target feature, Contains information about fare.\n",
    "\n"
   ]
  },
  {
   "cell_type": "markdown",
   "metadata": {},
   "source": [
    "## Import Libaries"
   ]
  },
  {
   "cell_type": "code",
   "execution_count": 3,
   "metadata": {},
   "outputs": [],
   "source": [
    "import pandas as pd\n",
    "import numpy as np\n",
    "import seaborn as sns\n",
    "import matplotlib.pyplot as plt\n",
    "\n",
    "import warnings\n",
    "warnings.filterwarnings('ignore')"
   ]
  },
  {
   "cell_type": "markdown",
   "metadata": {},
   "source": [
    "## Loading the Dataset"
   ]
  },
  {
   "cell_type": "code",
   "execution_count": 7,
   "metadata": {},
   "outputs": [
    {
     "data": {
      "text/html": [
       "<div>\n",
       "<style scoped>\n",
       "    .dataframe tbody tr th:only-of-type {\n",
       "        vertical-align: middle;\n",
       "    }\n",
       "\n",
       "    .dataframe tbody tr th {\n",
       "        vertical-align: top;\n",
       "    }\n",
       "\n",
       "    .dataframe thead th {\n",
       "        text-align: right;\n",
       "    }\n",
       "</style>\n",
       "<table border=\"1\" class=\"dataframe\">\n",
       "  <thead>\n",
       "    <tr style=\"text-align: right;\">\n",
       "      <th></th>\n",
       "      <th>Unnamed: 0</th>\n",
       "      <th>airline</th>\n",
       "      <th>flight</th>\n",
       "      <th>source_city</th>\n",
       "      <th>departure_time</th>\n",
       "      <th>stops</th>\n",
       "      <th>arrival_time</th>\n",
       "      <th>destination_city</th>\n",
       "      <th>class</th>\n",
       "      <th>duration</th>\n",
       "      <th>days_left</th>\n",
       "      <th>price</th>\n",
       "    </tr>\n",
       "  </thead>\n",
       "  <tbody>\n",
       "    <tr>\n",
       "      <th>0</th>\n",
       "      <td>0</td>\n",
       "      <td>SpiceJet</td>\n",
       "      <td>SG-8709</td>\n",
       "      <td>Delhi</td>\n",
       "      <td>Evening</td>\n",
       "      <td>zero</td>\n",
       "      <td>Night</td>\n",
       "      <td>Mumbai</td>\n",
       "      <td>Economy</td>\n",
       "      <td>2.17</td>\n",
       "      <td>1</td>\n",
       "      <td>5953</td>\n",
       "    </tr>\n",
       "    <tr>\n",
       "      <th>1</th>\n",
       "      <td>1</td>\n",
       "      <td>SpiceJet</td>\n",
       "      <td>SG-8157</td>\n",
       "      <td>Delhi</td>\n",
       "      <td>Early_Morning</td>\n",
       "      <td>zero</td>\n",
       "      <td>Morning</td>\n",
       "      <td>Mumbai</td>\n",
       "      <td>Economy</td>\n",
       "      <td>2.33</td>\n",
       "      <td>1</td>\n",
       "      <td>5953</td>\n",
       "    </tr>\n",
       "    <tr>\n",
       "      <th>2</th>\n",
       "      <td>2</td>\n",
       "      <td>AirAsia</td>\n",
       "      <td>I5-764</td>\n",
       "      <td>Delhi</td>\n",
       "      <td>Early_Morning</td>\n",
       "      <td>zero</td>\n",
       "      <td>Early_Morning</td>\n",
       "      <td>Mumbai</td>\n",
       "      <td>Economy</td>\n",
       "      <td>2.17</td>\n",
       "      <td>1</td>\n",
       "      <td>5956</td>\n",
       "    </tr>\n",
       "    <tr>\n",
       "      <th>3</th>\n",
       "      <td>3</td>\n",
       "      <td>Vistara</td>\n",
       "      <td>UK-995</td>\n",
       "      <td>Delhi</td>\n",
       "      <td>Morning</td>\n",
       "      <td>zero</td>\n",
       "      <td>Afternoon</td>\n",
       "      <td>Mumbai</td>\n",
       "      <td>Economy</td>\n",
       "      <td>2.25</td>\n",
       "      <td>1</td>\n",
       "      <td>5955</td>\n",
       "    </tr>\n",
       "    <tr>\n",
       "      <th>4</th>\n",
       "      <td>4</td>\n",
       "      <td>Vistara</td>\n",
       "      <td>UK-963</td>\n",
       "      <td>Delhi</td>\n",
       "      <td>Morning</td>\n",
       "      <td>zero</td>\n",
       "      <td>Morning</td>\n",
       "      <td>Mumbai</td>\n",
       "      <td>Economy</td>\n",
       "      <td>2.33</td>\n",
       "      <td>1</td>\n",
       "      <td>5955</td>\n",
       "    </tr>\n",
       "  </tbody>\n",
       "</table>\n",
       "</div>"
      ],
      "text/plain": [
       "   Unnamed: 0   airline   flight source_city departure_time stops  \\\n",
       "0           0  SpiceJet  SG-8709       Delhi        Evening  zero   \n",
       "1           1  SpiceJet  SG-8157       Delhi  Early_Morning  zero   \n",
       "2           2   AirAsia   I5-764       Delhi  Early_Morning  zero   \n",
       "3           3   Vistara   UK-995       Delhi        Morning  zero   \n",
       "4           4   Vistara   UK-963       Delhi        Morning  zero   \n",
       "\n",
       "    arrival_time destination_city    class  duration  days_left  price  \n",
       "0          Night           Mumbai  Economy      2.17          1   5953  \n",
       "1        Morning           Mumbai  Economy      2.33          1   5953  \n",
       "2  Early_Morning           Mumbai  Economy      2.17          1   5956  \n",
       "3      Afternoon           Mumbai  Economy      2.25          1   5955  \n",
       "4        Morning           Mumbai  Economy      2.33          1   5955  "
      ]
     },
     "execution_count": 7,
     "metadata": {},
     "output_type": "execute_result"
    }
   ],
   "source": [
    "df = pd.read_csv(\"Flight_fare_data.csv\")\n",
    "df.head()"
   ]
  },
  {
   "cell_type": "markdown",
   "metadata": {},
   "source": [
    "Let's drop `unamed` column"
   ]
  },
  {
   "cell_type": "code",
   "execution_count": 8,
   "metadata": {},
   "outputs": [
    {
     "data": {
      "text/html": [
       "<div>\n",
       "<style scoped>\n",
       "    .dataframe tbody tr th:only-of-type {\n",
       "        vertical-align: middle;\n",
       "    }\n",
       "\n",
       "    .dataframe tbody tr th {\n",
       "        vertical-align: top;\n",
       "    }\n",
       "\n",
       "    .dataframe thead th {\n",
       "        text-align: right;\n",
       "    }\n",
       "</style>\n",
       "<table border=\"1\" class=\"dataframe\">\n",
       "  <thead>\n",
       "    <tr style=\"text-align: right;\">\n",
       "      <th></th>\n",
       "      <th>airline</th>\n",
       "      <th>flight</th>\n",
       "      <th>source_city</th>\n",
       "      <th>departure_time</th>\n",
       "      <th>stops</th>\n",
       "      <th>arrival_time</th>\n",
       "      <th>destination_city</th>\n",
       "      <th>class</th>\n",
       "      <th>duration</th>\n",
       "      <th>days_left</th>\n",
       "      <th>price</th>\n",
       "    </tr>\n",
       "  </thead>\n",
       "  <tbody>\n",
       "    <tr>\n",
       "      <th>0</th>\n",
       "      <td>SpiceJet</td>\n",
       "      <td>SG-8709</td>\n",
       "      <td>Delhi</td>\n",
       "      <td>Evening</td>\n",
       "      <td>zero</td>\n",
       "      <td>Night</td>\n",
       "      <td>Mumbai</td>\n",
       "      <td>Economy</td>\n",
       "      <td>2.17</td>\n",
       "      <td>1</td>\n",
       "      <td>5953</td>\n",
       "    </tr>\n",
       "    <tr>\n",
       "      <th>1</th>\n",
       "      <td>SpiceJet</td>\n",
       "      <td>SG-8157</td>\n",
       "      <td>Delhi</td>\n",
       "      <td>Early_Morning</td>\n",
       "      <td>zero</td>\n",
       "      <td>Morning</td>\n",
       "      <td>Mumbai</td>\n",
       "      <td>Economy</td>\n",
       "      <td>2.33</td>\n",
       "      <td>1</td>\n",
       "      <td>5953</td>\n",
       "    </tr>\n",
       "    <tr>\n",
       "      <th>2</th>\n",
       "      <td>AirAsia</td>\n",
       "      <td>I5-764</td>\n",
       "      <td>Delhi</td>\n",
       "      <td>Early_Morning</td>\n",
       "      <td>zero</td>\n",
       "      <td>Early_Morning</td>\n",
       "      <td>Mumbai</td>\n",
       "      <td>Economy</td>\n",
       "      <td>2.17</td>\n",
       "      <td>1</td>\n",
       "      <td>5956</td>\n",
       "    </tr>\n",
       "    <tr>\n",
       "      <th>3</th>\n",
       "      <td>Vistara</td>\n",
       "      <td>UK-995</td>\n",
       "      <td>Delhi</td>\n",
       "      <td>Morning</td>\n",
       "      <td>zero</td>\n",
       "      <td>Afternoon</td>\n",
       "      <td>Mumbai</td>\n",
       "      <td>Economy</td>\n",
       "      <td>2.25</td>\n",
       "      <td>1</td>\n",
       "      <td>5955</td>\n",
       "    </tr>\n",
       "    <tr>\n",
       "      <th>4</th>\n",
       "      <td>Vistara</td>\n",
       "      <td>UK-963</td>\n",
       "      <td>Delhi</td>\n",
       "      <td>Morning</td>\n",
       "      <td>zero</td>\n",
       "      <td>Morning</td>\n",
       "      <td>Mumbai</td>\n",
       "      <td>Economy</td>\n",
       "      <td>2.33</td>\n",
       "      <td>1</td>\n",
       "      <td>5955</td>\n",
       "    </tr>\n",
       "  </tbody>\n",
       "</table>\n",
       "</div>"
      ],
      "text/plain": [
       "    airline   flight source_city departure_time stops   arrival_time  \\\n",
       "0  SpiceJet  SG-8709       Delhi        Evening  zero          Night   \n",
       "1  SpiceJet  SG-8157       Delhi  Early_Morning  zero        Morning   \n",
       "2   AirAsia   I5-764       Delhi  Early_Morning  zero  Early_Morning   \n",
       "3   Vistara   UK-995       Delhi        Morning  zero      Afternoon   \n",
       "4   Vistara   UK-963       Delhi        Morning  zero        Morning   \n",
       "\n",
       "  destination_city    class  duration  days_left  price  \n",
       "0           Mumbai  Economy      2.17          1   5953  \n",
       "1           Mumbai  Economy      2.33          1   5953  \n",
       "2           Mumbai  Economy      2.17          1   5956  \n",
       "3           Mumbai  Economy      2.25          1   5955  \n",
       "4           Mumbai  Economy      2.33          1   5955  "
      ]
     },
     "execution_count": 8,
     "metadata": {},
     "output_type": "execute_result"
    }
   ],
   "source": [
    "df = df.drop(columns=['Unnamed: 0'])\n",
    "df.head()"
   ]
  },
  {
   "cell_type": "markdown",
   "metadata": {},
   "source": [
    "Shape of Data"
   ]
  },
  {
   "cell_type": "code",
   "execution_count": 15,
   "metadata": {},
   "outputs": [
    {
     "name": "stdout",
     "output_type": "stream",
     "text": [
      "There are 300153 rows and 11 columns in the dataset.\n"
     ]
    }
   ],
   "source": [
    "print(f\"There are {len(df)} rows and {len(df.columns)} columns in the dataset.\")"
   ]
  },
  {
   "cell_type": "markdown",
   "metadata": {},
   "source": [
    "## EDA (Exploratory Data Analysis)"
   ]
  },
  {
   "cell_type": "markdown",
   "metadata": {},
   "source": [
    "Exploring information about each column"
   ]
  },
  {
   "cell_type": "code",
   "execution_count": 30,
   "metadata": {},
   "outputs": [
    {
     "name": "stdout",
     "output_type": "stream",
     "text": [
      "<class 'pandas.core.frame.DataFrame'>\n",
      "RangeIndex: 300153 entries, 0 to 300152\n",
      "Data columns (total 11 columns):\n",
      " #   Column            Non-Null Count   Dtype  \n",
      "---  ------            --------------   -----  \n",
      " 0   airline           300153 non-null  object \n",
      " 1   flight            300153 non-null  object \n",
      " 2   source_city       300153 non-null  object \n",
      " 3   departure_time    300153 non-null  object \n",
      " 4   stops             300153 non-null  object \n",
      " 5   arrival_time      300153 non-null  object \n",
      " 6   destination_city  300153 non-null  object \n",
      " 7   class             300153 non-null  object \n",
      " 8   duration          300153 non-null  float64\n",
      " 9   days_left         300153 non-null  int64  \n",
      " 10  price             300153 non-null  int64  \n",
      "dtypes: float64(1), int64(2), object(8)\n",
      "memory usage: 25.2+ MB\n"
     ]
    }
   ],
   "source": [
    "df.info()"
   ]
  },
  {
   "cell_type": "markdown",
   "metadata": {},
   "source": [
    "## Univariate Analysis"
   ]
  },
  {
   "cell_type": "markdown",
   "metadata": {},
   "source": [
    "##### This function will help us to plot the count of Categorical variable and precentage of total"
   ]
  },
  {
   "cell_type": "code",
   "execution_count": 157,
   "metadata": {},
   "outputs": [],
   "source": [
    "def count_and_percent(column):\n",
    "    unique_values = df[column].nunique()\n",
    "    count = df[column].value_counts()\n",
    "    percentage = (df[column].value_counts(normalize=True)*100)\n",
    "    result_df = pd.DataFrame({'count':count, 'percentage': percentage.map('{:.2f}%'.format)})\n",
    "    return result_df.style.background_gradient(cmap='Blues')"
   ]
  },
  {
   "cell_type": "markdown",
   "metadata": {},
   "source": [
    "### `Airline`"
   ]
  },
  {
   "cell_type": "code",
   "execution_count": 158,
   "metadata": {},
   "outputs": [
    {
     "data": {
      "text/html": [
       "<style type=\"text/css\">\n",
       "#T_9c0ea_row0_col0 {\n",
       "  background-color: #08306b;\n",
       "  color: #f1f1f1;\n",
       "}\n",
       "#T_9c0ea_row1_col0 {\n",
       "  background-color: #4997c9;\n",
       "  color: #f1f1f1;\n",
       "}\n",
       "#T_9c0ea_row2_col0 {\n",
       "  background-color: #bad6eb;\n",
       "  color: #000000;\n",
       "}\n",
       "#T_9c0ea_row3_col0 {\n",
       "  background-color: #dfecf7;\n",
       "  color: #000000;\n",
       "}\n",
       "#T_9c0ea_row4_col0 {\n",
       "  background-color: #ebf3fb;\n",
       "  color: #000000;\n",
       "}\n",
       "#T_9c0ea_row5_col0 {\n",
       "  background-color: #f7fbff;\n",
       "  color: #000000;\n",
       "}\n",
       "</style>\n",
       "<table id=\"T_9c0ea\">\n",
       "  <thead>\n",
       "    <tr>\n",
       "      <th class=\"blank level0\" >&nbsp;</th>\n",
       "      <th id=\"T_9c0ea_level0_col0\" class=\"col_heading level0 col0\" >count</th>\n",
       "      <th id=\"T_9c0ea_level0_col1\" class=\"col_heading level0 col1\" >percentage</th>\n",
       "    </tr>\n",
       "    <tr>\n",
       "      <th class=\"index_name level0\" >airline</th>\n",
       "      <th class=\"blank col0\" >&nbsp;</th>\n",
       "      <th class=\"blank col1\" >&nbsp;</th>\n",
       "    </tr>\n",
       "  </thead>\n",
       "  <tbody>\n",
       "    <tr>\n",
       "      <th id=\"T_9c0ea_level0_row0\" class=\"row_heading level0 row0\" >Vistara</th>\n",
       "      <td id=\"T_9c0ea_row0_col0\" class=\"data row0 col0\" >127859</td>\n",
       "      <td id=\"T_9c0ea_row0_col1\" class=\"data row0 col1\" >42.60%</td>\n",
       "    </tr>\n",
       "    <tr>\n",
       "      <th id=\"T_9c0ea_level0_row1\" class=\"row_heading level0 row1\" >Air_India</th>\n",
       "      <td id=\"T_9c0ea_row1_col0\" class=\"data row1 col0\" >80892</td>\n",
       "      <td id=\"T_9c0ea_row1_col1\" class=\"data row1 col1\" >26.95%</td>\n",
       "    </tr>\n",
       "    <tr>\n",
       "      <th id=\"T_9c0ea_level0_row2\" class=\"row_heading level0 row2\" >Indigo</th>\n",
       "      <td id=\"T_9c0ea_row2_col0\" class=\"data row2 col0\" >43120</td>\n",
       "      <td id=\"T_9c0ea_row2_col1\" class=\"data row2 col1\" >14.37%</td>\n",
       "    </tr>\n",
       "    <tr>\n",
       "      <th id=\"T_9c0ea_level0_row3\" class=\"row_heading level0 row3\" >GO_FIRST</th>\n",
       "      <td id=\"T_9c0ea_row3_col0\" class=\"data row3 col0\" >23173</td>\n",
       "      <td id=\"T_9c0ea_row3_col1\" class=\"data row3 col1\" >7.72%</td>\n",
       "    </tr>\n",
       "    <tr>\n",
       "      <th id=\"T_9c0ea_level0_row4\" class=\"row_heading level0 row4\" >AirAsia</th>\n",
       "      <td id=\"T_9c0ea_row4_col0\" class=\"data row4 col0\" >16098</td>\n",
       "      <td id=\"T_9c0ea_row4_col1\" class=\"data row4 col1\" >5.36%</td>\n",
       "    </tr>\n",
       "    <tr>\n",
       "      <th id=\"T_9c0ea_level0_row5\" class=\"row_heading level0 row5\" >SpiceJet</th>\n",
       "      <td id=\"T_9c0ea_row5_col0\" class=\"data row5 col0\" >9011</td>\n",
       "      <td id=\"T_9c0ea_row5_col1\" class=\"data row5 col1\" >3.00%</td>\n",
       "    </tr>\n",
       "  </tbody>\n",
       "</table>\n"
      ],
      "text/plain": [
       "<pandas.io.formats.style.Styler at 0x1a212daaef0>"
      ]
     },
     "execution_count": 158,
     "metadata": {},
     "output_type": "execute_result"
    }
   ],
   "source": [
    "count_and_percent(column='airline')"
   ]
  },
  {
   "cell_type": "markdown",
   "metadata": {},
   "source": [
    "###  `flight`"
   ]
  },
  {
   "cell_type": "markdown",
   "metadata": {},
   "source": [
    "Top 10 flown airbus by Flight Code  "
   ]
  },
  {
   "cell_type": "code",
   "execution_count": 152,
   "metadata": {},
   "outputs": [
    {
     "data": {
      "text/html": [
       "<style type=\"text/css\">\n",
       "#T_7c49e_row0_col1 {\n",
       "  background-color: #fc7f00;\n",
       "  color: #f1f1f1;\n",
       "}\n",
       "#T_7c49e_row1_col1 {\n",
       "  background-color: #ffc505;\n",
       "  color: #000000;\n",
       "}\n",
       "#T_7c49e_row2_col1 {\n",
       "  background-color: #ffd60f;\n",
       "  color: #000000;\n",
       "}\n",
       "#T_7c49e_row3_col1 {\n",
       "  background-color: #fde920;\n",
       "  color: #000000;\n",
       "}\n",
       "#T_7c49e_row4_col1 {\n",
       "  background-color: #f5f13f;\n",
       "  color: #000000;\n",
       "}\n",
       "#T_7c49e_row5_col1 {\n",
       "  background-color: #f1f44b;\n",
       "  color: #000000;\n",
       "}\n",
       "#T_7c49e_row6_col1 {\n",
       "  background-color: #eff653;\n",
       "  color: #000000;\n",
       "}\n",
       "#T_7c49e_row7_col1 {\n",
       "  background-color: #edf75a;\n",
       "  color: #000000;\n",
       "}\n",
       "#T_7c49e_row8_col1 {\n",
       "  background-color: #e4ff78;\n",
       "  color: #000000;\n",
       "}\n",
       "#T_7c49e_row9_col1 {\n",
       "  background-color: #e4ff7a;\n",
       "  color: #000000;\n",
       "}\n",
       "</style>\n",
       "<table id=\"T_7c49e\">\n",
       "  <thead>\n",
       "    <tr>\n",
       "      <th class=\"blank level0\" >&nbsp;</th>\n",
       "      <th id=\"T_7c49e_level0_col0\" class=\"col_heading level0 col0\" >flight</th>\n",
       "      <th id=\"T_7c49e_level0_col1\" class=\"col_heading level0 col1\" >count</th>\n",
       "    </tr>\n",
       "  </thead>\n",
       "  <tbody>\n",
       "    <tr>\n",
       "      <th id=\"T_7c49e_level0_row0\" class=\"row_heading level0 row0\" >0</th>\n",
       "      <td id=\"T_7c49e_row0_col0\" class=\"data row0 col0\" >UK-706</td>\n",
       "      <td id=\"T_7c49e_row0_col1\" class=\"data row0 col1\" >3235</td>\n",
       "    </tr>\n",
       "    <tr>\n",
       "      <th id=\"T_7c49e_level0_row1\" class=\"row_heading level0 row1\" >1</th>\n",
       "      <td id=\"T_7c49e_row1_col0\" class=\"data row1 col0\" >UK-772</td>\n",
       "      <td id=\"T_7c49e_row1_col1\" class=\"data row1 col1\" >2741</td>\n",
       "    </tr>\n",
       "    <tr>\n",
       "      <th id=\"T_7c49e_level0_row2\" class=\"row_heading level0 row2\" >2</th>\n",
       "      <td id=\"T_7c49e_row2_col0\" class=\"data row2 col0\" >UK-720</td>\n",
       "      <td id=\"T_7c49e_row2_col1\" class=\"data row2 col1\" >2650</td>\n",
       "    </tr>\n",
       "    <tr>\n",
       "      <th id=\"T_7c49e_level0_row3\" class=\"row_heading level0 row3\" >3</th>\n",
       "      <td id=\"T_7c49e_row3_col0\" class=\"data row3 col0\" >UK-836</td>\n",
       "      <td id=\"T_7c49e_row3_col1\" class=\"data row3 col1\" >2542</td>\n",
       "    </tr>\n",
       "    <tr>\n",
       "      <th id=\"T_7c49e_level0_row4\" class=\"row_heading level0 row4\" >4</th>\n",
       "      <td id=\"T_7c49e_row4_col0\" class=\"data row4 col0\" >UK-822</td>\n",
       "      <td id=\"T_7c49e_row4_col1\" class=\"data row4 col1\" >2468</td>\n",
       "    </tr>\n",
       "    <tr>\n",
       "      <th id=\"T_7c49e_level0_row5\" class=\"row_heading level0 row5\" >5</th>\n",
       "      <td id=\"T_7c49e_row5_col0\" class=\"data row5 col0\" >UK-828</td>\n",
       "      <td id=\"T_7c49e_row5_col1\" class=\"data row5 col1\" >2440</td>\n",
       "    </tr>\n",
       "    <tr>\n",
       "      <th id=\"T_7c49e_level0_row6\" class=\"row_heading level0 row6\" >6</th>\n",
       "      <td id=\"T_7c49e_row6_col0\" class=\"data row6 col0\" >UK-874</td>\n",
       "      <td id=\"T_7c49e_row6_col1\" class=\"data row6 col1\" >2423</td>\n",
       "    </tr>\n",
       "    <tr>\n",
       "      <th id=\"T_7c49e_level0_row7\" class=\"row_heading level0 row7\" >7</th>\n",
       "      <td id=\"T_7c49e_row7_col0\" class=\"data row7 col0\" >UK-832</td>\n",
       "      <td id=\"T_7c49e_row7_col1\" class=\"data row7 col1\" >2404</td>\n",
       "    </tr>\n",
       "    <tr>\n",
       "      <th id=\"T_7c49e_level0_row8\" class=\"row_heading level0 row8\" >8</th>\n",
       "      <td id=\"T_7c49e_row8_col0\" class=\"data row8 col0\" >UK-826</td>\n",
       "      <td id=\"T_7c49e_row8_col1\" class=\"data row8 col1\" >2335</td>\n",
       "    </tr>\n",
       "    <tr>\n",
       "      <th id=\"T_7c49e_level0_row9\" class=\"row_heading level0 row9\" >9</th>\n",
       "      <td id=\"T_7c49e_row9_col0\" class=\"data row9 col0\" >UK-860</td>\n",
       "      <td id=\"T_7c49e_row9_col1\" class=\"data row9 col1\" >2329</td>\n",
       "    </tr>\n",
       "  </tbody>\n",
       "</table>\n"
      ],
      "text/plain": [
       "<pandas.io.formats.style.Styler at 0x1a212eabc10>"
      ]
     },
     "execution_count": 152,
     "metadata": {},
     "output_type": "execute_result"
    }
   ],
   "source": [
    "df['flight'].value_counts().sort_values(ascending=False).head(10).to_frame().reset_index().style.background_gradient(cmap='Wistia')"
   ]
  },
  {
   "cell_type": "markdown",
   "metadata": {},
   "source": [
    "Bottom 10 airbus flown by flight code "
   ]
  },
  {
   "cell_type": "code",
   "execution_count": 64,
   "metadata": {},
   "outputs": [
    {
     "data": {
      "text/html": [
       "<style type=\"text/css\">\n",
       "#T_62ba2_row0_col1, #T_62ba2_row1_col1, #T_62ba2_row2_col1, #T_62ba2_row3_col1, #T_62ba2_row4_col1, #T_62ba2_row5_col1, #T_62ba2_row6_col1, #T_62ba2_row7_col1, #T_62ba2_row8_col1, #T_62ba2_row9_col1 {\n",
       "  background-color: #e4ff7a;\n",
       "  color: #000000;\n",
       "}\n",
       "</style>\n",
       "<table id=\"T_62ba2\">\n",
       "  <thead>\n",
       "    <tr>\n",
       "      <th class=\"blank level0\" >&nbsp;</th>\n",
       "      <th id=\"T_62ba2_level0_col0\" class=\"col_heading level0 col0\" >flight</th>\n",
       "      <th id=\"T_62ba2_level0_col1\" class=\"col_heading level0 col1\" >count</th>\n",
       "    </tr>\n",
       "  </thead>\n",
       "  <tbody>\n",
       "    <tr>\n",
       "      <th id=\"T_62ba2_level0_row0\" class=\"row_heading level0 row0\" >0</th>\n",
       "      <td id=\"T_62ba2_row0_col0\" class=\"data row0 col0\" >SG-9974</td>\n",
       "      <td id=\"T_62ba2_row0_col1\" class=\"data row0 col1\" >1</td>\n",
       "    </tr>\n",
       "    <tr>\n",
       "      <th id=\"T_62ba2_level0_row1\" class=\"row_heading level0 row1\" >1</th>\n",
       "      <td id=\"T_62ba2_row1_col0\" class=\"data row1 col0\" >SG-8339</td>\n",
       "      <td id=\"T_62ba2_row1_col1\" class=\"data row1 col1\" >1</td>\n",
       "    </tr>\n",
       "    <tr>\n",
       "      <th id=\"T_62ba2_level0_row2\" class=\"row_heading level0 row2\" >2</th>\n",
       "      <td id=\"T_62ba2_row2_col0\" class=\"data row2 col0\" >I5-737</td>\n",
       "      <td id=\"T_62ba2_row2_col1\" class=\"data row2 col1\" >1</td>\n",
       "    </tr>\n",
       "    <tr>\n",
       "      <th id=\"T_62ba2_level0_row3\" class=\"row_heading level0 row3\" >3</th>\n",
       "      <td id=\"T_62ba2_row3_col0\" class=\"data row3 col0\" >6E-6613</td>\n",
       "      <td id=\"T_62ba2_row3_col1\" class=\"data row3 col1\" >1</td>\n",
       "    </tr>\n",
       "    <tr>\n",
       "      <th id=\"T_62ba2_level0_row4\" class=\"row_heading level0 row4\" >4</th>\n",
       "      <td id=\"T_62ba2_row4_col0\" class=\"data row4 col0\" >6E-5003</td>\n",
       "      <td id=\"T_62ba2_row4_col1\" class=\"data row4 col1\" >1</td>\n",
       "    </tr>\n",
       "    <tr>\n",
       "      <th id=\"T_62ba2_level0_row5\" class=\"row_heading level0 row5\" >5</th>\n",
       "      <td id=\"T_62ba2_row5_col0\" class=\"data row5 col0\" >AI-9991</td>\n",
       "      <td id=\"T_62ba2_row5_col1\" class=\"data row5 col1\" >1</td>\n",
       "    </tr>\n",
       "    <tr>\n",
       "      <th id=\"T_62ba2_level0_row6\" class=\"row_heading level0 row6\" >6</th>\n",
       "      <td id=\"T_62ba2_row6_col0\" class=\"data row6 col0\" >SG-8106</td>\n",
       "      <td id=\"T_62ba2_row6_col1\" class=\"data row6 col1\" >1</td>\n",
       "    </tr>\n",
       "    <tr>\n",
       "      <th id=\"T_62ba2_level0_row7\" class=\"row_heading level0 row7\" >7</th>\n",
       "      <td id=\"T_62ba2_row7_col0\" class=\"data row7 col0\" >SG-1058</td>\n",
       "      <td id=\"T_62ba2_row7_col1\" class=\"data row7 col1\" >1</td>\n",
       "    </tr>\n",
       "    <tr>\n",
       "      <th id=\"T_62ba2_level0_row8\" class=\"row_heading level0 row8\" >8</th>\n",
       "      <td id=\"T_62ba2_row8_col0\" class=\"data row8 col0\" >6E-2914</td>\n",
       "      <td id=\"T_62ba2_row8_col1\" class=\"data row8 col1\" >1</td>\n",
       "    </tr>\n",
       "    <tr>\n",
       "      <th id=\"T_62ba2_level0_row9\" class=\"row_heading level0 row9\" >9</th>\n",
       "      <td id=\"T_62ba2_row9_col0\" class=\"data row9 col0\" >G8-107</td>\n",
       "      <td id=\"T_62ba2_row9_col1\" class=\"data row9 col1\" >1</td>\n",
       "    </tr>\n",
       "  </tbody>\n",
       "</table>\n"
      ],
      "text/plain": [
       "<pandas.io.formats.style.Styler at 0x1a20bfea410>"
      ]
     },
     "execution_count": 64,
     "metadata": {},
     "output_type": "execute_result"
    }
   ],
   "source": [
    "df['flight'].value_counts().sort_values(ascending=False).tail(10).to_frame().reset_index().style.background_gradient(cmap='Wistia')"
   ]
  },
  {
   "cell_type": "markdown",
   "metadata": {},
   "source": [
    "### `source_city`"
   ]
  },
  {
   "cell_type": "code",
   "execution_count": 160,
   "metadata": {},
   "outputs": [
    {
     "data": {
      "text/html": [
       "<style type=\"text/css\">\n",
       "#T_77d98_row0_col0 {\n",
       "  background-color: #08306b;\n",
       "  color: #f1f1f1;\n",
       "}\n",
       "#T_77d98_row1_col0 {\n",
       "  background-color: #083573;\n",
       "  color: #f1f1f1;\n",
       "}\n",
       "#T_77d98_row2_col0 {\n",
       "  background-color: #4d99ca;\n",
       "  color: #f1f1f1;\n",
       "}\n",
       "#T_77d98_row3_col0 {\n",
       "  background-color: #aacfe5;\n",
       "  color: #000000;\n",
       "}\n",
       "#T_77d98_row4_col0 {\n",
       "  background-color: #e5eff9;\n",
       "  color: #000000;\n",
       "}\n",
       "#T_77d98_row5_col0 {\n",
       "  background-color: #f7fbff;\n",
       "  color: #000000;\n",
       "}\n",
       "</style>\n",
       "<table id=\"T_77d98\">\n",
       "  <thead>\n",
       "    <tr>\n",
       "      <th class=\"blank level0\" >&nbsp;</th>\n",
       "      <th id=\"T_77d98_level0_col0\" class=\"col_heading level0 col0\" >count</th>\n",
       "      <th id=\"T_77d98_level0_col1\" class=\"col_heading level0 col1\" >percentage</th>\n",
       "    </tr>\n",
       "    <tr>\n",
       "      <th class=\"index_name level0\" >source_city</th>\n",
       "      <th class=\"blank col0\" >&nbsp;</th>\n",
       "      <th class=\"blank col1\" >&nbsp;</th>\n",
       "    </tr>\n",
       "  </thead>\n",
       "  <tbody>\n",
       "    <tr>\n",
       "      <th id=\"T_77d98_level0_row0\" class=\"row_heading level0 row0\" >Delhi</th>\n",
       "      <td id=\"T_77d98_row0_col0\" class=\"data row0 col0\" >61343</td>\n",
       "      <td id=\"T_77d98_row0_col1\" class=\"data row0 col1\" >20.44%</td>\n",
       "    </tr>\n",
       "    <tr>\n",
       "      <th id=\"T_77d98_level0_row1\" class=\"row_heading level0 row1\" >Mumbai</th>\n",
       "      <td id=\"T_77d98_row1_col0\" class=\"data row1 col0\" >60896</td>\n",
       "      <td id=\"T_77d98_row1_col1\" class=\"data row1 col1\" >20.29%</td>\n",
       "    </tr>\n",
       "    <tr>\n",
       "      <th id=\"T_77d98_level0_row2\" class=\"row_heading level0 row2\" >Bangalore</th>\n",
       "      <td id=\"T_77d98_row2_col0\" class=\"data row2 col0\" >52061</td>\n",
       "      <td id=\"T_77d98_row2_col1\" class=\"data row2 col1\" >17.34%</td>\n",
       "    </tr>\n",
       "    <tr>\n",
       "      <th id=\"T_77d98_level0_row3\" class=\"row_heading level0 row3\" >Kolkata</th>\n",
       "      <td id=\"T_77d98_row3_col0\" class=\"data row3 col0\" >46347</td>\n",
       "      <td id=\"T_77d98_row3_col1\" class=\"data row3 col1\" >15.44%</td>\n",
       "    </tr>\n",
       "    <tr>\n",
       "      <th id=\"T_77d98_level0_row4\" class=\"row_heading level0 row4\" >Hyderabad</th>\n",
       "      <td id=\"T_77d98_row4_col0\" class=\"data row4 col0\" >40806</td>\n",
       "      <td id=\"T_77d98_row4_col1\" class=\"data row4 col1\" >13.60%</td>\n",
       "    </tr>\n",
       "    <tr>\n",
       "      <th id=\"T_77d98_level0_row5\" class=\"row_heading level0 row5\" >Chennai</th>\n",
       "      <td id=\"T_77d98_row5_col0\" class=\"data row5 col0\" >38700</td>\n",
       "      <td id=\"T_77d98_row5_col1\" class=\"data row5 col1\" >12.89%</td>\n",
       "    </tr>\n",
       "  </tbody>\n",
       "</table>\n"
      ],
      "text/plain": [
       "<pandas.io.formats.style.Styler at 0x1a212daa500>"
      ]
     },
     "execution_count": 160,
     "metadata": {},
     "output_type": "execute_result"
    }
   ],
   "source": [
    "count_and_percent(column='source_city')"
   ]
  },
  {
   "cell_type": "markdown",
   "metadata": {},
   "source": [
    "### `departure_time`"
   ]
  },
  {
   "cell_type": "code",
   "execution_count": 161,
   "metadata": {},
   "outputs": [
    {
     "data": {
      "text/html": [
       "<style type=\"text/css\">\n",
       "#T_162a7_row0_col0 {\n",
       "  background-color: #08306b;\n",
       "  color: #f1f1f1;\n",
       "}\n",
       "#T_162a7_row1_col0 {\n",
       "  background-color: #084082;\n",
       "  color: #f1f1f1;\n",
       "}\n",
       "#T_162a7_row2_col0 {\n",
       "  background-color: #08478d;\n",
       "  color: #f1f1f1;\n",
       "}\n",
       "#T_162a7_row3_col0 {\n",
       "  background-color: #3686c0;\n",
       "  color: #f1f1f1;\n",
       "}\n",
       "#T_162a7_row4_col0 {\n",
       "  background-color: #3787c0;\n",
       "  color: #f1f1f1;\n",
       "}\n",
       "#T_162a7_row5_col0 {\n",
       "  background-color: #f7fbff;\n",
       "  color: #000000;\n",
       "}\n",
       "</style>\n",
       "<table id=\"T_162a7\">\n",
       "  <thead>\n",
       "    <tr>\n",
       "      <th class=\"blank level0\" >&nbsp;</th>\n",
       "      <th id=\"T_162a7_level0_col0\" class=\"col_heading level0 col0\" >count</th>\n",
       "      <th id=\"T_162a7_level0_col1\" class=\"col_heading level0 col1\" >percentage</th>\n",
       "    </tr>\n",
       "    <tr>\n",
       "      <th class=\"index_name level0\" >departure_time</th>\n",
       "      <th class=\"blank col0\" >&nbsp;</th>\n",
       "      <th class=\"blank col1\" >&nbsp;</th>\n",
       "    </tr>\n",
       "  </thead>\n",
       "  <tbody>\n",
       "    <tr>\n",
       "      <th id=\"T_162a7_level0_row0\" class=\"row_heading level0 row0\" >Morning</th>\n",
       "      <td id=\"T_162a7_row0_col0\" class=\"data row0 col0\" >71146</td>\n",
       "      <td id=\"T_162a7_row0_col1\" class=\"data row0 col1\" >23.70%</td>\n",
       "    </tr>\n",
       "    <tr>\n",
       "      <th id=\"T_162a7_level0_row1\" class=\"row_heading level0 row1\" >Early_Morning</th>\n",
       "      <td id=\"T_162a7_row1_col0\" class=\"data row1 col0\" >66790</td>\n",
       "      <td id=\"T_162a7_row1_col1\" class=\"data row1 col1\" >22.25%</td>\n",
       "    </tr>\n",
       "    <tr>\n",
       "      <th id=\"T_162a7_level0_row2\" class=\"row_heading level0 row2\" >Evening</th>\n",
       "      <td id=\"T_162a7_row2_col0\" class=\"data row2 col0\" >65102</td>\n",
       "      <td id=\"T_162a7_row2_col1\" class=\"data row2 col1\" >21.69%</td>\n",
       "    </tr>\n",
       "    <tr>\n",
       "      <th id=\"T_162a7_level0_row3\" class=\"row_heading level0 row3\" >Night</th>\n",
       "      <td id=\"T_162a7_row3_col0\" class=\"data row3 col0\" >48015</td>\n",
       "      <td id=\"T_162a7_row3_col1\" class=\"data row3 col1\" >16.00%</td>\n",
       "    </tr>\n",
       "    <tr>\n",
       "      <th id=\"T_162a7_level0_row4\" class=\"row_heading level0 row4\" >Afternoon</th>\n",
       "      <td id=\"T_162a7_row4_col0\" class=\"data row4 col0\" >47794</td>\n",
       "      <td id=\"T_162a7_row4_col1\" class=\"data row4 col1\" >15.92%</td>\n",
       "    </tr>\n",
       "    <tr>\n",
       "      <th id=\"T_162a7_level0_row5\" class=\"row_heading level0 row5\" >Late_Night</th>\n",
       "      <td id=\"T_162a7_row5_col0\" class=\"data row5 col0\" >1306</td>\n",
       "      <td id=\"T_162a7_row5_col1\" class=\"data row5 col1\" >0.44%</td>\n",
       "    </tr>\n",
       "  </tbody>\n",
       "</table>\n"
      ],
      "text/plain": [
       "<pandas.io.formats.style.Styler at 0x1a212daa830>"
      ]
     },
     "execution_count": 161,
     "metadata": {},
     "output_type": "execute_result"
    }
   ],
   "source": [
    "count_and_percent(column='departure_time')"
   ]
  },
  {
   "cell_type": "markdown",
   "metadata": {},
   "source": [
    "### `stops`             "
   ]
  },
  {
   "cell_type": "code",
   "execution_count": 162,
   "metadata": {},
   "outputs": [
    {
     "data": {
      "text/html": [
       "<style type=\"text/css\">\n",
       "#T_5f25b_row0_col0 {\n",
       "  background-color: #08306b;\n",
       "  color: #f1f1f1;\n",
       "}\n",
       "#T_5f25b_row1_col0 {\n",
       "  background-color: #e4eff9;\n",
       "  color: #000000;\n",
       "}\n",
       "#T_5f25b_row2_col0 {\n",
       "  background-color: #f7fbff;\n",
       "  color: #000000;\n",
       "}\n",
       "</style>\n",
       "<table id=\"T_5f25b\">\n",
       "  <thead>\n",
       "    <tr>\n",
       "      <th class=\"blank level0\" >&nbsp;</th>\n",
       "      <th id=\"T_5f25b_level0_col0\" class=\"col_heading level0 col0\" >count</th>\n",
       "      <th id=\"T_5f25b_level0_col1\" class=\"col_heading level0 col1\" >percentage</th>\n",
       "    </tr>\n",
       "    <tr>\n",
       "      <th class=\"index_name level0\" >stops</th>\n",
       "      <th class=\"blank col0\" >&nbsp;</th>\n",
       "      <th class=\"blank col1\" >&nbsp;</th>\n",
       "    </tr>\n",
       "  </thead>\n",
       "  <tbody>\n",
       "    <tr>\n",
       "      <th id=\"T_5f25b_level0_row0\" class=\"row_heading level0 row0\" >one</th>\n",
       "      <td id=\"T_5f25b_row0_col0\" class=\"data row0 col0\" >250863</td>\n",
       "      <td id=\"T_5f25b_row0_col1\" class=\"data row0 col1\" >83.58%</td>\n",
       "    </tr>\n",
       "    <tr>\n",
       "      <th id=\"T_5f25b_level0_row1\" class=\"row_heading level0 row1\" >zero</th>\n",
       "      <td id=\"T_5f25b_row1_col0\" class=\"data row1 col0\" >36004</td>\n",
       "      <td id=\"T_5f25b_row1_col1\" class=\"data row1 col1\" >12.00%</td>\n",
       "    </tr>\n",
       "    <tr>\n",
       "      <th id=\"T_5f25b_level0_row2\" class=\"row_heading level0 row2\" >two_or_more</th>\n",
       "      <td id=\"T_5f25b_row2_col0\" class=\"data row2 col0\" >13286</td>\n",
       "      <td id=\"T_5f25b_row2_col1\" class=\"data row2 col1\" >4.43%</td>\n",
       "    </tr>\n",
       "  </tbody>\n",
       "</table>\n"
      ],
      "text/plain": [
       "<pandas.io.formats.style.Styler at 0x1a212e512a0>"
      ]
     },
     "execution_count": 162,
     "metadata": {},
     "output_type": "execute_result"
    }
   ],
   "source": [
    "count_and_percent(column='stops')"
   ]
  },
  {
   "cell_type": "markdown",
   "metadata": {},
   "source": [
    "### `arrival_time`"
   ]
  },
  {
   "cell_type": "code",
   "execution_count": 163,
   "metadata": {},
   "outputs": [
    {
     "data": {
      "text/html": [
       "<style type=\"text/css\">\n",
       "#T_57e0b_row0_col0 {\n",
       "  background-color: #08306b;\n",
       "  color: #f1f1f1;\n",
       "}\n",
       "#T_57e0b_row1_col0 {\n",
       "  background-color: #115ca5;\n",
       "  color: #f1f1f1;\n",
       "}\n",
       "#T_57e0b_row2_col0 {\n",
       "  background-color: #4191c6;\n",
       "  color: #f1f1f1;\n",
       "}\n",
       "#T_57e0b_row3_col0 {\n",
       "  background-color: #b3d3e8;\n",
       "  color: #000000;\n",
       "}\n",
       "#T_57e0b_row4_col0 {\n",
       "  background-color: #f4f9fe;\n",
       "  color: #000000;\n",
       "}\n",
       "#T_57e0b_row5_col0 {\n",
       "  background-color: #f7fbff;\n",
       "  color: #000000;\n",
       "}\n",
       "</style>\n",
       "<table id=\"T_57e0b\">\n",
       "  <thead>\n",
       "    <tr>\n",
       "      <th class=\"blank level0\" >&nbsp;</th>\n",
       "      <th id=\"T_57e0b_level0_col0\" class=\"col_heading level0 col0\" >count</th>\n",
       "      <th id=\"T_57e0b_level0_col1\" class=\"col_heading level0 col1\" >percentage</th>\n",
       "    </tr>\n",
       "    <tr>\n",
       "      <th class=\"index_name level0\" >arrival_time</th>\n",
       "      <th class=\"blank col0\" >&nbsp;</th>\n",
       "      <th class=\"blank col1\" >&nbsp;</th>\n",
       "    </tr>\n",
       "  </thead>\n",
       "  <tbody>\n",
       "    <tr>\n",
       "      <th id=\"T_57e0b_level0_row0\" class=\"row_heading level0 row0\" >Night</th>\n",
       "      <td id=\"T_57e0b_row0_col0\" class=\"data row0 col0\" >91538</td>\n",
       "      <td id=\"T_57e0b_row0_col1\" class=\"data row0 col1\" >30.50%</td>\n",
       "    </tr>\n",
       "    <tr>\n",
       "      <th id=\"T_57e0b_level0_row1\" class=\"row_heading level0 row1\" >Evening</th>\n",
       "      <td id=\"T_57e0b_row1_col0\" class=\"data row1 col0\" >78323</td>\n",
       "      <td id=\"T_57e0b_row1_col1\" class=\"data row1 col1\" >26.09%</td>\n",
       "    </tr>\n",
       "    <tr>\n",
       "      <th id=\"T_57e0b_level0_row2\" class=\"row_heading level0 row2\" >Morning</th>\n",
       "      <td id=\"T_57e0b_row2_col0\" class=\"data row2 col0\" >62735</td>\n",
       "      <td id=\"T_57e0b_row2_col1\" class=\"data row2 col1\" >20.90%</td>\n",
       "    </tr>\n",
       "    <tr>\n",
       "      <th id=\"T_57e0b_level0_row3\" class=\"row_heading level0 row3\" >Afternoon</th>\n",
       "      <td id=\"T_57e0b_row3_col0\" class=\"data row3 col0\" >38139</td>\n",
       "      <td id=\"T_57e0b_row3_col1\" class=\"data row3 col1\" >12.71%</td>\n",
       "    </tr>\n",
       "    <tr>\n",
       "      <th id=\"T_57e0b_level0_row4\" class=\"row_heading level0 row4\" >Early_Morning</th>\n",
       "      <td id=\"T_57e0b_row4_col0\" class=\"data row4 col0\" >15417</td>\n",
       "      <td id=\"T_57e0b_row4_col1\" class=\"data row4 col1\" >5.14%</td>\n",
       "    </tr>\n",
       "    <tr>\n",
       "      <th id=\"T_57e0b_level0_row5\" class=\"row_heading level0 row5\" >Late_Night</th>\n",
       "      <td id=\"T_57e0b_row5_col0\" class=\"data row5 col0\" >14001</td>\n",
       "      <td id=\"T_57e0b_row5_col1\" class=\"data row5 col1\" >4.66%</td>\n",
       "    </tr>\n",
       "  </tbody>\n",
       "</table>\n"
      ],
      "text/plain": [
       "<pandas.io.formats.style.Styler at 0x1a20c214130>"
      ]
     },
     "execution_count": 163,
     "metadata": {},
     "output_type": "execute_result"
    }
   ],
   "source": [
    "count_and_percent(column='arrival_time')"
   ]
  },
  {
   "cell_type": "markdown",
   "metadata": {},
   "source": [
    "### `destination_city`"
   ]
  },
  {
   "cell_type": "code",
   "execution_count": 164,
   "metadata": {},
   "outputs": [
    {
     "data": {
      "text/html": [
       "<style type=\"text/css\">\n",
       "#T_7bb3c_row0_col0 {\n",
       "  background-color: #08306b;\n",
       "  color: #f1f1f1;\n",
       "}\n",
       "#T_7bb3c_row1_col0 {\n",
       "  background-color: #08488e;\n",
       "  color: #f1f1f1;\n",
       "}\n",
       "#T_7bb3c_row2_col0 {\n",
       "  background-color: #539ecd;\n",
       "  color: #f1f1f1;\n",
       "}\n",
       "#T_7bb3c_row3_col0 {\n",
       "  background-color: #6fb0d7;\n",
       "  color: #f1f1f1;\n",
       "}\n",
       "#T_7bb3c_row4_col0 {\n",
       "  background-color: #deebf7;\n",
       "  color: #000000;\n",
       "}\n",
       "#T_7bb3c_row5_col0 {\n",
       "  background-color: #f7fbff;\n",
       "  color: #000000;\n",
       "}\n",
       "</style>\n",
       "<table id=\"T_7bb3c\">\n",
       "  <thead>\n",
       "    <tr>\n",
       "      <th class=\"blank level0\" >&nbsp;</th>\n",
       "      <th id=\"T_7bb3c_level0_col0\" class=\"col_heading level0 col0\" >count</th>\n",
       "      <th id=\"T_7bb3c_level0_col1\" class=\"col_heading level0 col1\" >percentage</th>\n",
       "    </tr>\n",
       "    <tr>\n",
       "      <th class=\"index_name level0\" >destination_city</th>\n",
       "      <th class=\"blank col0\" >&nbsp;</th>\n",
       "      <th class=\"blank col1\" >&nbsp;</th>\n",
       "    </tr>\n",
       "  </thead>\n",
       "  <tbody>\n",
       "    <tr>\n",
       "      <th id=\"T_7bb3c_level0_row0\" class=\"row_heading level0 row0\" >Mumbai</th>\n",
       "      <td id=\"T_7bb3c_row0_col0\" class=\"data row0 col0\" >59097</td>\n",
       "      <td id=\"T_7bb3c_row0_col1\" class=\"data row0 col1\" >19.69%</td>\n",
       "    </tr>\n",
       "    <tr>\n",
       "      <th id=\"T_7bb3c_level0_row1\" class=\"row_heading level0 row1\" >Delhi</th>\n",
       "      <td id=\"T_7bb3c_row1_col0\" class=\"data row1 col0\" >57360</td>\n",
       "      <td id=\"T_7bb3c_row1_col1\" class=\"data row1 col1\" >19.11%</td>\n",
       "    </tr>\n",
       "    <tr>\n",
       "      <th id=\"T_7bb3c_level0_row2\" class=\"row_heading level0 row2\" >Bangalore</th>\n",
       "      <td id=\"T_7bb3c_row2_col0\" class=\"data row2 col0\" >51068</td>\n",
       "      <td id=\"T_7bb3c_row2_col1\" class=\"data row2 col1\" >17.01%</td>\n",
       "    </tr>\n",
       "    <tr>\n",
       "      <th id=\"T_7bb3c_level0_row3\" class=\"row_heading level0 row3\" >Kolkata</th>\n",
       "      <td id=\"T_7bb3c_row3_col0\" class=\"data row3 col0\" >49534</td>\n",
       "      <td id=\"T_7bb3c_row3_col1\" class=\"data row3 col1\" >16.50%</td>\n",
       "    </tr>\n",
       "    <tr>\n",
       "      <th id=\"T_7bb3c_level0_row4\" class=\"row_heading level0 row4\" >Hyderabad</th>\n",
       "      <td id=\"T_7bb3c_row4_col0\" class=\"data row4 col0\" >42726</td>\n",
       "      <td id=\"T_7bb3c_row4_col1\" class=\"data row4 col1\" >14.23%</td>\n",
       "    </tr>\n",
       "    <tr>\n",
       "      <th id=\"T_7bb3c_level0_row5\" class=\"row_heading level0 row5\" >Chennai</th>\n",
       "      <td id=\"T_7bb3c_row5_col0\" class=\"data row5 col0\" >40368</td>\n",
       "      <td id=\"T_7bb3c_row5_col1\" class=\"data row5 col1\" >13.45%</td>\n",
       "    </tr>\n",
       "  </tbody>\n",
       "</table>\n"
      ],
      "text/plain": [
       "<pandas.io.formats.style.Styler at 0x1a212e90610>"
      ]
     },
     "execution_count": 164,
     "metadata": {},
     "output_type": "execute_result"
    }
   ],
   "source": [
    "count_and_percent(column='destination_city')"
   ]
  },
  {
   "cell_type": "markdown",
   "metadata": {},
   "source": [
    "### `class`"
   ]
  },
  {
   "cell_type": "code",
   "execution_count": 165,
   "metadata": {},
   "outputs": [
    {
     "data": {
      "text/html": [
       "<style type=\"text/css\">\n",
       "#T_cdd45_row0_col0 {\n",
       "  background-color: #08306b;\n",
       "  color: #f1f1f1;\n",
       "}\n",
       "#T_cdd45_row1_col0 {\n",
       "  background-color: #f7fbff;\n",
       "  color: #000000;\n",
       "}\n",
       "</style>\n",
       "<table id=\"T_cdd45\">\n",
       "  <thead>\n",
       "    <tr>\n",
       "      <th class=\"blank level0\" >&nbsp;</th>\n",
       "      <th id=\"T_cdd45_level0_col0\" class=\"col_heading level0 col0\" >count</th>\n",
       "      <th id=\"T_cdd45_level0_col1\" class=\"col_heading level0 col1\" >percentage</th>\n",
       "    </tr>\n",
       "    <tr>\n",
       "      <th class=\"index_name level0\" >class</th>\n",
       "      <th class=\"blank col0\" >&nbsp;</th>\n",
       "      <th class=\"blank col1\" >&nbsp;</th>\n",
       "    </tr>\n",
       "  </thead>\n",
       "  <tbody>\n",
       "    <tr>\n",
       "      <th id=\"T_cdd45_level0_row0\" class=\"row_heading level0 row0\" >Economy</th>\n",
       "      <td id=\"T_cdd45_row0_col0\" class=\"data row0 col0\" >206666</td>\n",
       "      <td id=\"T_cdd45_row0_col1\" class=\"data row0 col1\" >68.85%</td>\n",
       "    </tr>\n",
       "    <tr>\n",
       "      <th id=\"T_cdd45_level0_row1\" class=\"row_heading level0 row1\" >Business</th>\n",
       "      <td id=\"T_cdd45_row1_col0\" class=\"data row1 col0\" >93487</td>\n",
       "      <td id=\"T_cdd45_row1_col1\" class=\"data row1 col1\" >31.15%</td>\n",
       "    </tr>\n",
       "  </tbody>\n",
       "</table>\n"
      ],
      "text/plain": [
       "<pandas.io.formats.style.Styler at 0x1a212daaf80>"
      ]
     },
     "execution_count": 165,
     "metadata": {},
     "output_type": "execute_result"
    }
   ],
   "source": [
    "count_and_percent(column='class')"
   ]
  },
  {
   "cell_type": "markdown",
   "metadata": {},
   "source": [
    "# *`Observations`*\n",
    "1. No missing values\n",
    "2. `Vistara` airline [***127859***] has the highest number of flights `42.60%` & Lowest number flights are from `Spice jet` [***9011***] `3%`.\n",
    "3. `UK-706` airbus has flown [***3235***] times in lifetime from `Vistara`.\n",
    "4. `Delhi` [***61343***] has highest number of flights departure and `chennai` [***38700***] has the lowest number of flight departed.\n",
    "5. Highest number of the flights depart in the `Morning` [***71146***] and less number number flights in `Late night` [***1306***]. `Early Morning` flights are less in departs compared to `Morning` might be due to weather in mornings such as fogg, dark clouds, visibility.\n",
    "6. As per above dataset, we can see that highest number flights are `one` stop [***250863***] and `two or more` stops has the lowest number of flights [***13286***]. One stop flights are more preferred compared to Zero and two_or_more stops flights.\n",
    "7. Highest number of flights are landing at `Night` [***91538***] and lowest number of flights are landing at `Late_Night` [***14001***].  \n",
    "8. We have observed that most of flights depart in `Morning` ,most of the flights land at `Night` and most the flights are `one stop` flights.\n",
    "9. Highest number of flights are destined to `Mumbai` [***59097***] and Lowest number of flights are destined to `Chennai` [***40368***].\n",
    "10. Highest number of passengers are from `Economy` class."
   ]
  },
  {
   "cell_type": "code",
   "execution_count": null,
   "metadata": {},
   "outputs": [],
   "source": []
  }
 ],
 "metadata": {
  "kernelspec": {
   "display_name": ".venv",
   "language": "python",
   "name": "python3"
  },
  "language_info": {
   "codemirror_mode": {
    "name": "ipython",
    "version": 3
   },
   "file_extension": ".py",
   "mimetype": "text/x-python",
   "name": "python",
   "nbconvert_exporter": "python",
   "pygments_lexer": "ipython3",
   "version": "3.10.10"
  }
 },
 "nbformat": 4,
 "nbformat_minor": 2
}
